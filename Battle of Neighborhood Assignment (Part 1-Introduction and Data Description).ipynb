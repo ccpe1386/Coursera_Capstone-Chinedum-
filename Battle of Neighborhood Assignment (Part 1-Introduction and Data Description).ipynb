{
 "cells": [
  {
   "cell_type": "markdown",
   "metadata": {},
   "source": [
    "#### Problem Description and Background"
   ]
  },
  {
   "cell_type": "markdown",
   "metadata": {},
   "source": [
    "As of 2019, the population demographics show that approximately 8.3 million people reside in New York City. Among this population, 25.1% are African Americans or migrated from Africa. There are so many buisness in NYC and one that is of particular interest is to me the hospitality industry. \n",
    "\n",
    "One of the major reasons the hospitality industry trives in New York city is because of the population and diversity of residents. In addition, NYC is a center of attraction where people come from all over the world for tourism and buisness. There are serval buisnesses within the hospitality industry. One profitable and distinct buisness is food and catering. Given the nature of life in NYC, the average New Yorker is always on the move and more often than not, relies on eating out at restaurtants, cafe's or placing orders.\n",
    "\n",
    "The Primary goal in this project is the evaluate the boroughs in NYC and determine which would favor the opening of an African Restaurent. The choice of an African restaurant will be discussed in the discussion section of the report. This project will be situable for culinary investors and people looking to start African catering buisness where there is little to no competition."
   ]
  },
  {
   "cell_type": "markdown",
   "metadata": {},
   "source": [
    "#### Data Description"
   ]
  },
  {
   "cell_type": "markdown",
   "metadata": {},
   "source": [
    "The data that will be used in solving this problem is the New York data json file that was used in one of the assignments. The data will be be imported and arranged properly. It will be read into pandas data frame and the geographical discription (coordinates and maps of NYC and selected boroughs) of the data will be conducted. The following data can be read from the file: Borough, Neighborhood, Latitude, Longitude.\n",
    "\n",
    "\n",
    "In addition, I would use my Foursquare API credentials to explore the neighborhoods within the selected boroughs. This will help determine the suitable location for opening the African restaurant."
   ]
  },
  {
   "cell_type": "code",
   "execution_count": null,
   "metadata": {},
   "outputs": [],
   "source": []
  }
 ],
 "metadata": {
  "kernelspec": {
   "display_name": "Python 3",
   "language": "python",
   "name": "python3"
  },
  "language_info": {
   "codemirror_mode": {
    "name": "ipython",
    "version": 3
   },
   "file_extension": ".py",
   "mimetype": "text/x-python",
   "name": "python",
   "nbconvert_exporter": "python",
   "pygments_lexer": "ipython3",
   "version": "3.7.3"
  }
 },
 "nbformat": 4,
 "nbformat_minor": 2
}
